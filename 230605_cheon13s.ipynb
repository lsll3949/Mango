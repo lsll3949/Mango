{
  "nbformat": 4,
  "nbformat_minor": 0,
  "metadata": {
    "colab": {
      "private_outputs": true,
      "provenance": [],
      "include_colab_link": true
    },
    "kernelspec": {
      "name": "python3",
      "display_name": "Python 3"
    },
    "language_info": {
      "name": "python"
    }
  },
  "cells": [
    {
      "cell_type": "markdown",
      "metadata": {
        "id": "view-in-github",
        "colab_type": "text"
      },
      "source": [
        "<a href=\"https://colab.research.google.com/github/lsll3949/Mango/blob/main/230605_cheon13s.ipynb\" target=\"_parent\"><img src=\"https://colab.research.google.com/assets/colab-badge.svg\" alt=\"Open In Colab\"/></a>"
      ]
    },
    {
      "cell_type": "markdown",
      "source": [
        "**경사하강법**"
      ],
      "metadata": {
        "id": "2v3fRXHap3Wo"
      }
    },
    {
      "cell_type": "code",
      "execution_count": null,
      "metadata": {
        "id": "-UVQ9PMFpSjB"
      },
      "outputs": [],
      "source": [
        "x = 10  \n",
        "learning_rate = 0.01  \n",
        "precision = 0.00001  \n",
        "max_iterations = 100"
      ]
    },
    {
      "cell_type": "code",
      "source": [
        "# 손실 함수를 람다식으로 정의한다. \n",
        "loss_func = lambda x: (x-3)**2 + 10"
      ],
      "metadata": {
        "id": "FW-RMYX7qF3T"
      },
      "execution_count": null,
      "outputs": []
    },
    {
      "cell_type": "code",
      "source": [
        "# 그래디언트를 람다식으로 정의한다. 손실 함수의 1차 미분값이다. \n",
        "gradient = lambda x: 2*x-6"
      ],
      "metadata": {
        "id": "y1GwcIrJqINt"
      },
      "execution_count": null,
      "outputs": []
    },
    {
      "cell_type": "code",
      "source": [
        "# 그래디언트 강하법\n",
        "for i in range(max_iterations):\n",
        "    x = x - learning_rate * gradient(x)\n",
        "    print(\"손실 함수값(\", x, \")=\", loss_func(x))\n",
        "\n",
        "print(\"최소값 = \", x)"
      ],
      "metadata": {
        "id": "8b6ptJbKqLyH"
      },
      "execution_count": null,
      "outputs": []
    },
    {
      "cell_type": "markdown",
      "source": [
        "**keras XOR**"
      ],
      "metadata": {
        "id": "wQbEv5NJqids"
      }
    },
    {
      "cell_type": "code",
      "source": [
        "import tensorflow as tf\n",
        "import numpy as np"
      ],
      "metadata": {
        "id": "XmFW4Uhaqfaa"
      },
      "execution_count": null,
      "outputs": []
    },
    {
      "cell_type": "code",
      "source": [
        "X = np.array([[0,0],[0,1],[1,0],[1,1]])\n",
        "y = np.array([[0],[1],[1],[0]])"
      ],
      "metadata": {
        "id": "t8HPYo7BsPmj"
      },
      "execution_count": null,
      "outputs": []
    },
    {
      "cell_type": "code",
      "source": [
        "model = tf.keras.models.Sequential()\n",
        "model.add(tf.keras.layers.Dense(2, input_dim=2, activation='sigmoid'))\n",
        "model.add(tf.keras.layers.Dense(1, activation='sigmoid'))"
      ],
      "metadata": {
        "id": "cU7nwCTysSk1"
      },
      "execution_count": null,
      "outputs": []
    },
    {
      "cell_type": "code",
      "source": [
        "sgd = tf.keras.optimizers.SGD(lr=0.1)\n",
        "model.compile(loss='mean_squared_error', optimizer=sgd)\n",
        "model.fit(X, y, batch_size=1, epochs=100)"
      ],
      "metadata": {
        "id": "YRuuOqL6sUoM"
      },
      "execution_count": null,
      "outputs": []
    },
    {
      "cell_type": "code",
      "source": [
        "print(model.predict(X))"
      ],
      "metadata": {
        "id": "Y9CMuyabsY02"
      },
      "execution_count": null,
      "outputs": []
    },
    {
      "cell_type": "markdown",
      "source": [
        "**keras mnist**"
      ],
      "metadata": {
        "id": "fHTnF8evsa97"
      }
    },
    {
      "cell_type": "code",
      "source": [
        "import tensorflow as tf\n",
        "\n",
        "batch_size = 128\t# 가중치를 변경하기 전에 처리하는 샘플의 개수\n",
        "num_classes = 10\t# 출력 클래스의 개수\n",
        "epochs = 20\t\t# 에포크의 개수"
      ],
      "metadata": {
        "id": "SF6hKrM4sgrz"
      },
      "execution_count": null,
      "outputs": []
    },
    {
      "cell_type": "code",
      "source": [
        "# 데이터를 학습 데이터와 테스트 데이터로 나눈다. \n",
        "(x_train, y_train), (x_test, y_test) = tf.keras.datasets.mnist.load_data()\n",
        "\n",
        "# 입력 이미지를 2차원에서 1차원 벡터로 변경한다. \n",
        "x_train = x_train.reshape(60000, 784)\n",
        "x_test = x_test.reshape(10000, 784)\n",
        "\n",
        "# 입력 이미지의 픽셀 값이 0.0에서 1.0 사이의 값이 되게 한다. \n",
        "x_train = x_train.astype('float32')\n",
        "x_test = x_test.astype('float32')\n",
        "x_train /= 255\n",
        "x_test /= 255\n",
        "\n",
        "# 클래스의 개수에 따라서 하나의 출력 픽셀만이 1이 되게 한다. \n",
        "# 예를 들면 1 0 0 0 0 0 0 0 0 0과 같다.\n",
        "\n",
        "y_train = tf.keras.utils.to_categorical(y_train, num_classes)\n",
        "y_test = tf.keras.utils.to_categorical(y_test, num_classes)\n"
      ],
      "metadata": {
        "id": "dRTRGJK7snp3"
      },
      "execution_count": null,
      "outputs": []
    },
    {
      "cell_type": "code",
      "source": [
        "# 신경망의 모델을 구축한다. \n",
        "model = tf.keras.models.Sequential()\n",
        "model.add(tf.keras.layers.Dense(512, activation='sigmoid', input_shape=(784,)))\n",
        "model.add(tf.keras.layers.Dense(num_classes, activation='sigmoid'))\n",
        "\n",
        "model.summary()"
      ],
      "metadata": {
        "id": "RUe6DC4Usr60"
      },
      "execution_count": null,
      "outputs": []
    },
    {
      "cell_type": "code",
      "source": [
        "sgd = tf.keras.optimizers.SGD(lr=0.1)\n",
        "\n",
        "# 손실 함수를 제곱 오차 함수로 설정하고 학습 알고리즘은 SGD 방식으로 한다. \n",
        "model.compile(loss='mean_squared_error', optimizer=sgd, metrics=['accurracy'])\n",
        "\n",
        "# 학습을 수행한다. \n",
        "history = model.fix(x_train, y_train, batch_size=batch_size, epochs=epochs)"
      ],
      "metadata": {
        "id": "f4PPQhUWsu8Z"
      },
      "execution_count": null,
      "outputs": []
    },
    {
      "cell_type": "code",
      "source": [
        "# 학습을 평가한다. \n",
        "score = model.evaluate(x_test, y_test, verbose=0)\n",
        "print('테스트 손실값:', score[0])\n",
        "print('테스트 정확도:', score[1])"
      ],
      "metadata": {
        "id": "iD1ILgx4sx4O"
      },
      "execution_count": null,
      "outputs": []
    }
  ]
}